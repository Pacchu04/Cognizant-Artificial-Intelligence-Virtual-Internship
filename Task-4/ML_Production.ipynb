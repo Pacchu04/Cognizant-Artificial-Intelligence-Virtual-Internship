{
  "cells": [
    {
      "cell_type": "code",
      "execution_count": 1,
      "metadata": {
        "id": "hzVVfZTwyva6"
      },
      "outputs": [],
      "source": [
        "import pandas as pd\n",
        "from sklearn.ensemble import RandomForestRegressor\n",
        "from sklearn.model_selection import train_test_split\n",
        "from sklearn.metrics import mean_absolute_error\n",
        "from sklearn.preprocessing import StandardScaler"
      ]
    },
    {
      "cell_type": "markdown",
      "metadata": {},
      "source": [
        "## DEFINE GLOBAL CONSTANTS"
      ]
    },
    {
      "cell_type": "code",
      "execution_count": 2,
      "metadata": {},
      "outputs": [],
      "source": [
        "k=10\n",
        "SPLIT=0.75"
      ]
    },
    {
      "cell_type": "markdown",
      "metadata": {},
      "source": [
        "## ALGORITHM CODE"
      ]
    },
    {
      "cell_type": "code",
      "execution_count": 3,
      "metadata": {
        "id": "d2hy53w1yyCc"
      },
      "outputs": [],
      "source": [
        "def load_data(path):\n",
        "  df=pd.read_csv(path)\n",
        "  df.drop(columns=[\"Unnamed: 0\"], inplace=True, errors='ignore')\n",
        "  return df\n"
      ]
    },
    {
      "cell_type": "code",
      "execution_count": 4,
      "metadata": {
        "id": "yjBbmShtzdoT"
      },
      "outputs": [
        {
          "ename": "NameError",
          "evalue": "name 'pd' is not defined",
          "output_type": "error",
          "traceback": [
            "\u001b[1;31m---------------------------------------------------------------------------\u001b[0m",
            "\u001b[1;31mNameError\u001b[0m                                 Traceback (most recent call last)",
            "Cell \u001b[1;32mIn[4], line 1\u001b[0m\n\u001b[1;32m----> 1\u001b[0m \u001b[38;5;28;01mdef\u001b[39;00m \u001b[38;5;21mcreate_target_and_predictors\u001b[39m(data: \u001b[43mpd\u001b[49m\u001b[38;5;241m.\u001b[39mDataFrame\u001b[38;5;241m=\u001b[39m\u001b[38;5;28;01mNone\u001b[39;00m, target: \u001b[38;5;28mstr\u001b[39m\u001b[38;5;241m=\u001b[39m\u001b[38;5;124m'\u001b[39m\u001b[38;5;124mestimated_stock_pct\u001b[39m\u001b[38;5;124m'\u001b[39m):\n\u001b[0;32m      2\u001b[0m   \u001b[38;5;28;01mif\u001b[39;00m target \u001b[38;5;129;01mnot\u001b[39;00m \u001b[38;5;129;01min\u001b[39;00m data\u001b[38;5;241m.\u001b[39mcolumns:\n\u001b[0;32m      3\u001b[0m         \u001b[38;5;28;01mraise\u001b[39;00m \u001b[38;5;167;01mException\u001b[39;00m(\u001b[38;5;124mf\u001b[39m\u001b[38;5;124m\"\u001b[39m\u001b[38;5;124mTarget: \u001b[39m\u001b[38;5;132;01m{\u001b[39;00mtarget\u001b[38;5;132;01m}\u001b[39;00m\u001b[38;5;124m is not present in the data\u001b[39m\u001b[38;5;124m\"\u001b[39m)\n",
            "\u001b[1;31mNameError\u001b[0m: name 'pd' is not defined"
          ]
        }
      ],
      "source": [
        "def create_target_and_predictors(data: pd.DataFrame=None, target: str='estimated_stock_pct'):\n",
        "  if target not in data.columns:\n",
        "        raise Exception(f\"Target: {target} is not present in the data\")\n",
        "    \n",
        "  X = data.drop(columns=[target])\n",
        "  y = data[target]\n",
        "  return X, y"
      ]
    },
    {
      "cell_type": "code",
      "execution_count": null,
      "metadata": {
        "id": "Cio_HV850-MX"
      },
      "outputs": [],
      "source": [
        "def train_algorithm_with_cross_validation(X: pd.DataFrame = None,y: pd.Series = None):\n",
        "  accuracy = []\n",
        "\n",
        "    # Enter a loop to run K folds of cross-validation\n",
        "    for fold in range(0, K):\n",
        "\n",
        "        # Instantiate algorithm and scaler\n",
        "        model = RandomForestRegressor()\n",
        "        scaler = StandardScaler()\n",
        "\n",
        "        # Create training and test samples\n",
        "        X_train, X_test, y_train, y_test = train_test_split(X, y, train_size=SPLIT, random_state=42)\n",
        "\n",
        "        # Scale X data, we scale the data because it helps the algorithm to converge\n",
        "        # and helps the algorithm to not be greedy with large values\n",
        "        scaler.fit(X_train)\n",
        "        X_train = scaler.transform(X_train)\n",
        "        X_test = scaler.transform(X_test)\n",
        "\n",
        "        # Train model\n",
        "        trained_model = model.fit(X_train, y_train)\n",
        "\n",
        "        # Generate predictions on test sample\n",
        "        y_pred = trained_model.predict(X_test)\n",
        "\n",
        "        # Compute accuracy, using mean absolute error\n",
        "        mae = mean_absolute_error(y_true=y_test, y_pred=y_pred)\n",
        "        accuracy.append(mae)\n",
        "        print(f\"Fold {fold + 1}: MAE = {mae:.3f}\")\n",
        "\n",
        "    # Finish by computing the average MAE across all folds\n",
        "    print(f\"Average MAE: {(sum(accuracy) / len(accuracy)):.2f}\")"
      ]
    },
    {
      "cell_type": "markdown",
      "metadata": {},
      "source": [
        "## MAIN FUNCTION"
      ]
    },
    {
      "cell_type": "code",
      "execution_count": 5,
      "metadata": {
        "id": "VEc8_0zZ1E77"
      },
      "outputs": [],
      "source": [
        "def run():\n",
        "\n",
        "    # Load the data first\n",
        "    df = load_data()\n",
        "\n",
        "    # Now split the data into predictors and target variables\n",
        "    X, y = create_target_and_predictors(data=df)\n",
        "\n",
        "    # Finally, train the machine learning model\n",
        "    train_algorithm_with_cross_validation(X=X, y=y)"
      ]
    },
    {
      "cell_type": "code",
      "execution_count": null,
      "metadata": {},
      "outputs": [],
      "source": []
    }
  ],
  "metadata": {
    "colab": {
      "provenance": []
    },
    "kernelspec": {
      "display_name": "Python 3",
      "name": "python3"
    },
    "language_info": {
      "codemirror_mode": {
        "name": "ipython",
        "version": 3
      },
      "file_extension": ".py",
      "mimetype": "text/x-python",
      "name": "python",
      "nbconvert_exporter": "python",
      "pygments_lexer": "ipython3",
      "version": "3.10.0"
    }
  },
  "nbformat": 4,
  "nbformat_minor": 0
}
